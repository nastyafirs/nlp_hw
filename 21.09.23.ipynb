{
 "cells": [
  {
   "cell_type": "markdown",
   "id": "c36dd228",
   "metadata": {},
   "source": [
    "Возьмём комментарии к фильмам с https://huggingface.co/datasets/blinoff/kinopoisk"
   ]
  },
  {
   "cell_type": "code",
   "execution_count": 171,
   "id": "7e91d940",
   "metadata": {},
   "outputs": [
    {
     "data": {
      "text/html": [
       "<div>\n",
       "<style scoped>\n",
       "    .dataframe tbody tr th:only-of-type {\n",
       "        vertical-align: middle;\n",
       "    }\n",
       "\n",
       "    .dataframe tbody tr th {\n",
       "        vertical-align: top;\n",
       "    }\n",
       "\n",
       "    .dataframe thead th {\n",
       "        text-align: right;\n",
       "    }\n",
       "</style>\n",
       "<table border=\"1\" class=\"dataframe\">\n",
       "  <thead>\n",
       "    <tr style=\"text-align: right;\">\n",
       "      <th></th>\n",
       "      <th>part</th>\n",
       "      <th>movie_name</th>\n",
       "      <th>review_id</th>\n",
       "      <th>author</th>\n",
       "      <th>date</th>\n",
       "      <th>title</th>\n",
       "      <th>grade3</th>\n",
       "      <th>grade10</th>\n",
       "      <th>content</th>\n",
       "    </tr>\n",
       "  </thead>\n",
       "  <tbody>\n",
       "    <tr>\n",
       "      <th>22868</th>\n",
       "      <td>top250</td>\n",
       "      <td>Престиж (2006)</td>\n",
       "      <td>4870</td>\n",
       "      <td>MC LOUD</td>\n",
       "      <td>2010-07-08</td>\n",
       "      <td>None</td>\n",
       "      <td>Good</td>\n",
       "      <td>10.0</td>\n",
       "      <td>\\nЭто очень хорошее кино. Нет. Это просто заме...</td>\n",
       "    </tr>\n",
       "    <tr>\n",
       "      <th>3040</th>\n",
       "      <td>top250</td>\n",
       "      <td>Шерлок Холмс Игра теней (2011)</td>\n",
       "      <td>28961</td>\n",
       "      <td>ТруБлад</td>\n",
       "      <td>2012-01-06</td>\n",
       "      <td>Holmes sweet Holmes</td>\n",
       "      <td>Bad</td>\n",
       "      <td>0.0</td>\n",
       "      <td>\\nВступление Капитана Очевидность: В чем состо...</td>\n",
       "    </tr>\n",
       "    <tr>\n",
       "      <th>35287</th>\n",
       "      <td>bottom100</td>\n",
       "      <td>Приключения Алёнушки и Ерёмы (2008)</td>\n",
       "      <td>25166</td>\n",
       "      <td>tulupoff mix</td>\n",
       "      <td>2012-08-05</td>\n",
       "      <td>FALL!</td>\n",
       "      <td>Bad</td>\n",
       "      <td>5.0</td>\n",
       "      <td>\\n      Что сказать по этому мультфильму? У на...</td>\n",
       "    </tr>\n",
       "    <tr>\n",
       "      <th>1693</th>\n",
       "      <td>top250</td>\n",
       "      <td>Самый быстрый «Индиан» (2005)</td>\n",
       "      <td>18595</td>\n",
       "      <td>Juvenile</td>\n",
       "      <td>2007-09-04</td>\n",
       "      <td>Мечта. Цель. Возраст. Хопкинс.</td>\n",
       "      <td>Neutral</td>\n",
       "      <td>0.0</td>\n",
       "      <td>\\nВот это надо видеть! Великий и ужасный Ганни...</td>\n",
       "    </tr>\n",
       "    <tr>\n",
       "      <th>5501</th>\n",
       "      <td>top250</td>\n",
       "      <td>Игры разума (2001)</td>\n",
       "      <td>4507</td>\n",
       "      <td>little Julia</td>\n",
       "      <td>2011-01-09</td>\n",
       "      <td>Врачи ставят ему диагноз «параноидная шизофрен...</td>\n",
       "      <td>Good</td>\n",
       "      <td>9.0</td>\n",
       "      <td>\\nХм, четыре Оскара, четырнадцатое месть в Топ...</td>\n",
       "    </tr>\n",
       "  </tbody>\n",
       "</table>\n",
       "</div>"
      ],
      "text/plain": [
       "            part                           movie_name  review_id  \\\n",
       "22868     top250                       Престиж (2006)       4870   \n",
       "3040      top250       Шерлок Холмс Игра теней (2011)      28961   \n",
       "35287  bottom100  Приключения Алёнушки и Ерёмы (2008)      25166   \n",
       "1693      top250        Самый быстрый «Индиан» (2005)      18595   \n",
       "5501      top250                   Игры разума (2001)       4507   \n",
       "\n",
       "             author       date  \\\n",
       "22868       MC LOUD 2010-07-08   \n",
       "3040        ТруБлад 2012-01-06   \n",
       "35287  tulupoff mix 2012-08-05   \n",
       "1693       Juvenile 2007-09-04   \n",
       "5501   little Julia 2011-01-09   \n",
       "\n",
       "                                                   title   grade3  grade10  \\\n",
       "22868                                               None     Good     10.0   \n",
       "3040                                 Holmes sweet Holmes      Bad      0.0   \n",
       "35287                                              FALL!      Bad      5.0   \n",
       "1693                      Мечта. Цель. Возраст. Хопкинс.  Neutral      0.0   \n",
       "5501   Врачи ставят ему диагноз «параноидная шизофрен...     Good      9.0   \n",
       "\n",
       "                                                 content  \n",
       "22868  \\nЭто очень хорошее кино. Нет. Это просто заме...  \n",
       "3040   \\nВступление Капитана Очевидность: В чем состо...  \n",
       "35287  \\n      Что сказать по этому мультфильму? У на...  \n",
       "1693   \\nВот это надо видеть! Великий и ужасный Ганни...  \n",
       "5501   \\nХм, четыре Оскара, четырнадцатое месть в Топ...  "
      ]
     },
     "execution_count": 171,
     "metadata": {},
     "output_type": "execute_result"
    }
   ],
   "source": [
    "import pandas as pd\n",
    "df = pd.read_json('kinopoisk.jsonl', lines=True)\n",
    "df.sample(5)"
   ]
  },
  {
   "cell_type": "markdown",
   "id": "b660112a",
   "metadata": {},
   "source": [
    "Почистим данные и приведём их все к нижнему регистру, а также уберём предварительно пунткуацию "
   ]
  },
  {
   "cell_type": "code",
   "execution_count": 172,
   "id": "cb207496",
   "metadata": {},
   "outputs": [
    {
     "data": {
      "text/html": [
       "<div>\n",
       "<style scoped>\n",
       "    .dataframe tbody tr th:only-of-type {\n",
       "        vertical-align: middle;\n",
       "    }\n",
       "\n",
       "    .dataframe tbody tr th {\n",
       "        vertical-align: top;\n",
       "    }\n",
       "\n",
       "    .dataframe thead th {\n",
       "        text-align: right;\n",
       "    }\n",
       "</style>\n",
       "<table border=\"1\" class=\"dataframe\">\n",
       "  <thead>\n",
       "    <tr style=\"text-align: right;\">\n",
       "      <th></th>\n",
       "      <th>grade3</th>\n",
       "      <th>content</th>\n",
       "    </tr>\n",
       "  </thead>\n",
       "  <tbody>\n",
       "    <tr>\n",
       "      <th>30305</th>\n",
       "      <td>Good</td>\n",
       "      <td>\\nКлассический вестерн, отточенный манерой и с...</td>\n",
       "    </tr>\n",
       "    <tr>\n",
       "      <th>5051</th>\n",
       "      <td>Good</td>\n",
       "      <td>\\nФанатом фильмов Тима Бёртона я не являюсь, а...</td>\n",
       "    </tr>\n",
       "    <tr>\n",
       "      <th>4164</th>\n",
       "      <td>Good</td>\n",
       "      <td>\\n31 декабря прошлого года состоялась премьера...</td>\n",
       "    </tr>\n",
       "    <tr>\n",
       "      <th>23228</th>\n",
       "      <td>Neutral</td>\n",
       "      <td>\\nЭто очередной фильм посмотренный мной в виде...</td>\n",
       "    </tr>\n",
       "    <tr>\n",
       "      <th>9671</th>\n",
       "      <td>Good</td>\n",
       "      <td>\\nПочти три часа. Три часа с декорациями, напо...</td>\n",
       "    </tr>\n",
       "  </tbody>\n",
       "</table>\n",
       "</div>"
      ],
      "text/plain": [
       "        grade3                                            content\n",
       "30305     Good  \\nКлассический вестерн, отточенный манерой и с...\n",
       "5051      Good  \\nФанатом фильмов Тима Бёртона я не являюсь, а...\n",
       "4164      Good  \\n31 декабря прошлого года состоялась премьера...\n",
       "23228  Neutral  \\nЭто очередной фильм посмотренный мной в виде...\n",
       "9671      Good  \\nПочти три часа. Три часа с декорациями, напо..."
      ]
     },
     "execution_count": 172,
     "metadata": {},
     "output_type": "execute_result"
    }
   ],
   "source": [
    "df = df.drop(columns='part')\n",
    "df = df.drop(columns='movie_name')\n",
    "df = df.drop(columns='review_id')\n",
    "df = df.drop(columns='author')\n",
    "df = df.drop(columns='date')\n",
    "df = df.drop(columns='title')\n",
    "df = df.drop(columns='grade10')\n",
    "df.sample(5)"
   ]
  },
  {
   "cell_type": "code",
   "execution_count": 173,
   "id": "4b03eee9",
   "metadata": {},
   "outputs": [],
   "source": [
    "df['text_clean'] = df['content'].replace(r'[^\\w\\s]',' ',regex=True).replace(r'\\s+',' ',regex=True).str.lower()"
   ]
  },
  {
   "cell_type": "code",
   "execution_count": 174,
   "id": "892ffb3c",
   "metadata": {},
   "outputs": [
    {
     "data": {
      "text/html": [
       "<div>\n",
       "<style scoped>\n",
       "    .dataframe tbody tr th:only-of-type {\n",
       "        vertical-align: middle;\n",
       "    }\n",
       "\n",
       "    .dataframe tbody tr th {\n",
       "        vertical-align: top;\n",
       "    }\n",
       "\n",
       "    .dataframe thead th {\n",
       "        text-align: right;\n",
       "    }\n",
       "</style>\n",
       "<table border=\"1\" class=\"dataframe\">\n",
       "  <thead>\n",
       "    <tr style=\"text-align: right;\">\n",
       "      <th></th>\n",
       "      <th>grade3</th>\n",
       "      <th>text_clean</th>\n",
       "    </tr>\n",
       "  </thead>\n",
       "  <tbody>\n",
       "    <tr>\n",
       "      <th>0</th>\n",
       "      <td>Good</td>\n",
       "      <td>блеф одна из моих самых любимых комедий этот ...</td>\n",
       "    </tr>\n",
       "    <tr>\n",
       "      <th>1</th>\n",
       "      <td>Good</td>\n",
       "      <td>адриано челентано продолжает радовать нас сво...</td>\n",
       "    </tr>\n",
       "    <tr>\n",
       "      <th>2</th>\n",
       "      <td>Good</td>\n",
       "      <td>несомненно это один из великих фильмов 80 х г...</td>\n",
       "    </tr>\n",
       "    <tr>\n",
       "      <th>3</th>\n",
       "      <td>Good</td>\n",
       "      <td>эта фраза на мой взгляд отражает сюжет несомн...</td>\n",
       "    </tr>\n",
       "    <tr>\n",
       "      <th>4</th>\n",
       "      <td>Neutral</td>\n",
       "      <td>как пела земфира скорее всего по совершенно д...</td>\n",
       "    </tr>\n",
       "  </tbody>\n",
       "</table>\n",
       "</div>"
      ],
      "text/plain": [
       "    grade3                                         text_clean\n",
       "0     Good   блеф одна из моих самых любимых комедий этот ...\n",
       "1     Good   адриано челентано продолжает радовать нас сво...\n",
       "2     Good   несомненно это один из великих фильмов 80 х г...\n",
       "3     Good   эта фраза на мой взгляд отражает сюжет несомн...\n",
       "4  Neutral   как пела земфира скорее всего по совершенно д..."
      ]
     },
     "execution_count": 174,
     "metadata": {},
     "output_type": "execute_result"
    }
   ],
   "source": [
    "df = df.drop(columns='content')\n",
    "df.head()"
   ]
  },
  {
   "cell_type": "markdown",
   "id": "131cd673",
   "metadata": {},
   "source": [
    "Разделим комментарии на хорошие и плохие "
   ]
  },
  {
   "cell_type": "code",
   "execution_count": 175,
   "id": "8b8cd076",
   "metadata": {},
   "outputs": [],
   "source": [
    "df_pos = df.loc[df['grade3'] == 'Good']\n",
    "df_pos = df_pos.drop(columns='grade3')"
   ]
  },
  {
   "cell_type": "code",
   "execution_count": 176,
   "id": "337aead9",
   "metadata": {},
   "outputs": [],
   "source": [
    "df_neg = df.loc[df['grade3'] == 'Bad']\n",
    "df_neg = df_neg.drop(columns='grade3')"
   ]
  },
  {
   "cell_type": "markdown",
   "id": "1705cb35",
   "metadata": {},
   "source": [
    "Выделим только 100 положительных и отрицательных комментариев для составления словарей"
   ]
  },
  {
   "cell_type": "code",
   "execution_count": 177,
   "id": "8c4f74cd",
   "metadata": {},
   "outputs": [],
   "source": [
    "pos_100 = df_pos['text_clean'].head(100)\n",
    "neg_100 = df_neg['text_clean'].head(100)"
   ]
  },
  {
   "cell_type": "markdown",
   "id": "9f3ef0b7",
   "metadata": {},
   "source": [
    "Удалим стоп-слова и знаки препинания из двух словарей, а потом лемматизируем и токенизируем их"
   ]
  },
  {
   "cell_type": "code",
   "execution_count": 178,
   "id": "f3c6d363",
   "metadata": {},
   "outputs": [],
   "source": [
    "import re\n",
    "\n",
    "from pymorphy2 import MorphAnalyzer\n",
    "from nltk.corpus import stopwords\n",
    "\n",
    "patterns = \"[A-Za-z0-9!#$%&'()*+,./:;<=>?@[\\]^_`{|}~—\\\"\\-]+\"\n",
    "stopwords_ru = stopwords.words(\"russian\")\n",
    "morph = MorphAnalyzer()\n",
    "\n",
    "def lemmatize(doc):\n",
    "    doc = re.sub(patterns, ' ', doc)\n",
    "    tokens = []\n",
    "    for token in doc.split():\n",
    "        if token and token not in stopwords_ru:\n",
    "            token = token.strip()\n",
    "            token = morph.normal_forms(token)[0]\n",
    "            \n",
    "            tokens.append(token)\n",
    "    if len(tokens) > 2:\n",
    "        return tokens\n",
    "    return None"
   ]
  },
  {
   "cell_type": "code",
   "execution_count": 179,
   "id": "c71863d7",
   "metadata": {},
   "outputs": [],
   "source": [
    "neg = neg_100.apply(lemmatize)"
   ]
  },
  {
   "cell_type": "code",
   "execution_count": 180,
   "id": "3c0753f4",
   "metadata": {},
   "outputs": [],
   "source": [
    "pos = pos_100.apply(lemmatize)"
   ]
  },
  {
   "cell_type": "code",
   "execution_count": 181,
   "id": "863e08df",
   "metadata": {},
   "outputs": [
    {
     "data": {
      "text/plain": [
       "86     [уныло, вынудить, констатировать, славный, сту...\n",
       "87     [собственно, говорить, экстраординарный, анима...\n",
       "100    [классика, уолт, дисней, тот, мультфильм, кото...\n",
       "192    [желание, посмотреть, мульт, рапунцель, возник...\n",
       "203    [назвать, рапунцель, невменяемый, бред, свой, ...\n",
       "Name: text_clean, dtype: object"
      ]
     },
     "execution_count": 181,
     "metadata": {},
     "output_type": "execute_result"
    }
   ],
   "source": [
    "neg.head()"
   ]
  },
  {
   "cell_type": "code",
   "execution_count": 182,
   "id": "66ca6960",
   "metadata": {},
   "outputs": [],
   "source": [
    "pos_fin=[]\n",
    "for i in pos:\n",
    "    if i:\n",
    "        pos_fin.append(i)\n",
    "    else:\n",
    "        break"
   ]
  },
  {
   "cell_type": "code",
   "execution_count": 183,
   "id": "7f41adfd",
   "metadata": {},
   "outputs": [],
   "source": [
    "neg_fin=[]\n",
    "for i in neg:\n",
    "    if i:\n",
    "        neg_fin.append(i)\n",
    "    else:\n",
    "        break"
   ]
  },
  {
   "cell_type": "markdown",
   "id": "da0fd2c9",
   "metadata": {},
   "source": [
    "Добавляем выборку 10 положительных и 10 отрицательных отзывов для проверки. Берём отзывы из конца таблицы, чтобы были отзывы, которые не учавствовали в создании словарей. Далее готовим данные к сравнению "
   ]
  },
  {
   "cell_type": "code",
   "execution_count": 184,
   "id": "7cc59bf0",
   "metadata": {},
   "outputs": [],
   "source": [
    "pos_10 = df_pos['text_clean'].tail(10)\n",
    "neg_10 = df_neg['text_clean'].tail(10)"
   ]
  },
  {
   "cell_type": "code",
   "execution_count": 185,
   "id": "5925f47a",
   "metadata": {},
   "outputs": [],
   "source": [
    "pos_10 = neg_10.apply(lemmatize)\n",
    "neg_10 = neg_10.apply(lemmatize)"
   ]
  },
  {
   "cell_type": "code",
   "execution_count": 186,
   "id": "10a7ab39",
   "metadata": {},
   "outputs": [],
   "source": [
    "pos_10_fin = []\n",
    "for i in pos_10:\n",
    "    if i:\n",
    "        pos_10_fin.append(i)\n",
    "    else:\n",
    "        break\n",
    "        \n",
    "neg_10_fin = []\n",
    "for i in neg_10:\n",
    "    if i:\n",
    "        pos_10_fin.append(i)\n",
    "    else:\n",
    "        break"
   ]
  },
  {
   "cell_type": "markdown",
   "id": "7b18ef11",
   "metadata": {},
   "source": [
    "Оцениваем тональность"
   ]
  },
  {
   "cell_type": "code",
   "execution_count": 195,
   "id": "21819cdb",
   "metadata": {},
   "outputs": [],
   "source": [
    "def get_tone(text, pos_fin, neg_fin):\n",
    "    res = ''\n",
    "    lemmas = lemmatize(text)\n",
    "    s_pos = 0\n",
    "    s_neg = 0\n",
    "    for lem in lemmas:\n",
    "        s_pos =+ pos_fin.count(lem)\n",
    "        s_neg =+ neg_fin.count(lem)\n",
    "    if s_neg == 0 or s_pos/s_neg > 1:\n",
    "        res = 'Good'\n",
    "    elif s_pos == 0 or s_neg/s_pos > 1:\n",
    "        res = 'Bad'\n",
    "    else:\n",
    "        res = 'None'\n",
    "    return(res)"
   ]
  },
  {
   "cell_type": "code",
   "execution_count": 196,
   "id": "97ef61b3",
   "metadata": {},
   "outputs": [
    {
     "data": {
      "text/plain": [
       "'Good'"
      ]
     },
     "execution_count": 196,
     "metadata": {},
     "output_type": "execute_result"
    }
   ],
   "source": [
    "get_tone('тупой и ещё тупее', pos_fin, neg_fin)"
   ]
  },
  {
   "cell_type": "code",
   "execution_count": null,
   "id": "56d73cbf",
   "metadata": {},
   "outputs": [],
   "source": []
  },
  {
   "cell_type": "markdown",
   "id": "4041027d",
   "metadata": {},
   "source": [
    "Хорошим способом улучшить этот алгоритм будет присвоение веса каждому слову в отзыве, который нам надо оценить. Таким образом, если слово встречается только один раз, оно будет весить 1, а если слово встречаетя, например, три раза, оно будет весить 3."
   ]
  },
  {
   "cell_type": "markdown",
   "id": "0c933c44",
   "metadata": {},
   "source": [
    "И ещё один способ, который я хочу предложить для улучшения алгоритма - это расширение изначальной разметки. Например, датасет, с которым я изначально работала предоставлял возможность выделять нейтральные отзывы. Но ещё удобнее определять анализ тональности для русскоязычного текста с помощью специальной библиотеки Dostoevsky -  модели FastTextSocialNetworkModel. Таким образом мы бы получили на выходе пять категорий тональности: нейтральная тональность; негативная тональность; позитивная тональность; речь, в которой отсутствуют эмоционально окрашенные слова; отсутствие четко-выраженной тональности."
   ]
  }
 ],
 "metadata": {
  "kernelspec": {
   "display_name": "Python 3 (ipykernel)",
   "language": "python",
   "name": "python3"
  },
  "language_info": {
   "codemirror_mode": {
    "name": "ipython",
    "version": 3
   },
   "file_extension": ".py",
   "mimetype": "text/x-python",
   "name": "python",
   "nbconvert_exporter": "python",
   "pygments_lexer": "ipython3",
   "version": "3.8.8"
  }
 },
 "nbformat": 4,
 "nbformat_minor": 5
}
